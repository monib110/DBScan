{
  "cells": [
    {
      "cell_type": "code",
      "execution_count": 1,
      "id": "2DZ8E8fFyj_k",
      "metadata": {
        "id": "2DZ8E8fFyj_k"
      },
      "outputs": [],
      "source": [
        "# ایمپورت کتابخونه های مورد نیاز \n",
        "from sklearn.datasets import make_blobs\n",
        "import matplotlib.pyplot as plt\n",
        "import pandas as pd\n",
        "import numpy as np\n",
        "import random"
      ]
    },
    {
      "cell_type": "code",
      "execution_count": 2,
      "id": "ouIZBaKxyj_t",
      "metadata": {
        "colab": {
          "base_uri": "https://localhost:8080/",
          "height": 313
        },
        "id": "ouIZBaKxyj_t",
        "outputId": "a0865c36-8a06-476e-b006-5da4662cace5"
      },
      "outputs": [
        {
          "data": {
            "text/plain": [
              "Text(0, 0.5, 'Y')"
            ]
          },
          "execution_count": 2,
          "metadata": {},
          "output_type": "execute_result"
        },
        {
          "data": {
            "image/png": "[encoded data removed]",
            "text/plain": [
              "<Figure size 432x288 with 1 Axes>"
            ]
          },
          "metadata": {
            "needs_background": "light"
          },
          "output_type": "display_data"
        }
      ],
      "source": [
        "# تولید دیتای بنچ مارک\n",
        "# این دیتاست 3 کلاس دارد که آن را با رنگ های آبی ، نارنجی و بنفش نشان داده ایم \n",
        "centers = [(0, 4), (5, 5) , (8,2)]\n",
        "cluster_std = [1.2, 1, 1.1]\n",
        "\n",
        "X, y= make_blobs(n_samples=200, cluster_std=cluster_std, centers=centers, n_features=2, random_state=1)\n",
        "\n",
        "\n",
        "\n",
        "'''\n",
        "centers1 = [[0, 0], [2, 6], [8, 10]]\n",
        "\n",
        "X, y = make_blobs(n_samples=500, centers=centers1, \n",
        "                  cluster_std=1, random_state=0)\n",
        "\n",
        "\n",
        "\n",
        "centers2 = [[0, 2], [2, 5], [6, 8]]\n",
        "\n",
        "X, y = make_blobs(n_samples=400, centers=centers2, \n",
        "                  cluster_std=0.9, random_state=0)\n",
        "\n",
        "\n",
        "centers3 = [[2,2], [2, 6], [3, 0]]\n",
        "\n",
        "#Create dataset\n",
        "X, y = make_blobs(n_samples=350, centers=centers3, \n",
        "                  cluster_std=0.8, random_state=0)\n",
        "\n",
        "\n",
        "'''\n",
        "plt.scatter(X[y == 0, 0], X[y == 0, 1], s=10, label=\"Cluster1\")\n",
        "plt.scatter(X[y == 1, 0], X[y == 1, 1], s=10, label=\"Cluster2\")\n",
        "plt.scatter(X[y == 2, 0], X[y == 2, 1], s=10, label=\"Cluster3\")\n",
        "plt.title(\"Scattered data\")\n",
        "plt.xlabel('X')\n",
        "plt.ylabel('Y')"
      ]
    },
    {
      "cell_type": "code",
      "execution_count": 3,
      "id": "z0pPkEwjyj_v",
      "metadata": {
        "colab": {
          "base_uri": "https://localhost:8080/",
          "height": 283
        },
        "id": "z0pPkEwjyj_v",
        "outputId": "3910b93a-20d8-47e7-dae1-c399ff28694a",
        "scrolled": true
      },
      "outputs": [
        {
          "data": {
            "text/plain": [
              "<matplotlib.collections.PathCollection at 0x7f0577826910>"
            ]
          },
          "execution_count": 3,
          "metadata": {},
          "output_type": "execute_result"
        },
        {
          "data": {
            "image/png": "[encoded data removed]",
            "text/plain": [
              "<Figure size 432x288 with 1 Axes>"
            ]
          },
          "metadata": {
            "needs_background": "light"
          },
          "output_type": "display_data"
        }
      ],
      "source": [
        "plt.scatter(X[:,0],X[:,1]) # نمایش دیتا بدون لیبل"
      ]
    },
    {
      "cell_type": "markdown",
      "id": "Kkjg8NtTyj_w",
      "metadata": {
        "id": "Kkjg8NtTyj_w"
      },
      "source": [
        "# پیاده سازی با استفاده از ساختمان داده استک"
      ]
    },
    {
      "cell_type": "code",
      "execution_count": 4,
      "id": "6Z6am8Q2yj_z",
      "metadata": {
        "id": "6Z6am8Q2yj_z"
      },
      "outputs": [],
      "source": [
        "# این تابع به هر نقطه ای نگاه میندازه و بررسی میکنه که آیا این نقطه یک نقطه حاشیه ای است یا نقطه اصلی یا نقطه نویزی \n",
        "def check_core_point(eps,minPts, df, index):\n",
        "    # گرفتن یک داده از اندیس مورد نظر\n",
        "    x, y = df.iloc[index]['X']  ,  df.iloc[index]['Y']\n",
        "    \n",
        "    # چک میکند آیا نقاط قابل دسترس در داخل شعاع هستند یا نه\n",
        "    temp =  df[((np.abs(x - df['X']) <= eps) & (np.abs(y - df['Y']) <= eps)) & (df.index != index)]\n",
        "    \n",
        "    # چک میکند چه تعداد نقطه داخل شعاع باید باشد\n",
        "    if len(temp) >= minPts:\n",
        "        # (dataframe, is_core, is_border, is_noise)  با این فرمت اطلاعات رو برمیگردونیم\n",
        "        return (temp.index , True, False, False)\n",
        "    \n",
        "    elif (len(temp) < minPts) and len(temp) > 0:\n",
        "        # (dataframe, is_core, is_border, is_noise) با این فرمت اطلاعات رو بر میگردونیم \n",
        "        return (temp.index , False, True, False)\n",
        "    \n",
        "    elif len(temp) == 0:\n",
        "        # (dataframe, is_core, is_border, is_noise) با این فرمت اطلاعات رو بر میگردونیم\n",
        "        return (temp.index , False, False, True)"
      ]
    },
    {
      "cell_type": "markdown",
      "id": "galI0JED1A-Z",
      "metadata": {
        "id": "galI0JED1A-Z"
      },
      "source": [
        "## تابع اصلی"
      ]
    },
    {
      "cell_type": "code",
      "execution_count": 5,
      "id": "9dZGu3_ayj_0",
      "metadata": {
        "id": "9dZGu3_ayj_0"
      },
      "outputs": [],
      "source": [
        "\n",
        "def cluster_with_stack(eps, minPts, df):\n",
        "    \n",
        "    # مقداردهی اولیه شماره خوشه\n",
        "    C = 1\n",
        "    # مقداردهی اولیه استک برای نگهداری داده ها\n",
        "    current_stack = set()\n",
        "    unvisited = list(df.index)\n",
        "    clusters = []\n",
        "    \n",
        "    \n",
        "    while (len(unvisited) != 0): # این کد اجرا میشه تا زمانی که همه نقطه ها رو بررسی کرده باشیم\n",
        "\n",
        "        # یک شناسه برای اولین داده ی خوشه\n",
        "        first_point = True\n",
        "        \n",
        "        # یک داده رندم بررسی نشده انتخاب میکنیم\n",
        "        current_stack.add(random.choice(unvisited))\n",
        "        \n",
        "        while len(current_stack) != 0: # تا زمانی که خوشه کامل میشه این کد اجرا باید بشه\n",
        "            \n",
        "            # داده فعلی رو از استک بر میداریم\n",
        "            curr_idx = current_stack.pop()\n",
        "            \n",
        "            # بررسی میکنه آیا نقطه(داده) یک داده اصلی یا حاشیه ای یا نویز است\n",
        "            neigh_indexes, iscore, isborder, isnoise = check_core_point(eps, minPts, df, curr_idx)\n",
        "            \n",
        "            if (isborder & first_point):                \n",
        "                clusters.append((curr_idx, 0))\n",
        "                clusters.extend(list(zip(neigh_indexes,[0 for _ in range(len(neigh_indexes))])))\n",
        "                \n",
        "                # داده رو به عنوان یک داده ویزیت شده لیبل میزنیم\n",
        "                unvisited.remove(curr_idx)\n",
        "                unvisited = [e for e in unvisited if e not in neigh_indexes]\n",
        "    \n",
        "                continue\n",
        "                \n",
        "            unvisited.remove(curr_idx) # حذف نقطه از لیست دیده نشده ها\n",
        "            \n",
        "            \n",
        "            neigh_indexes = set(neigh_indexes) & set(unvisited) # فقط نقاط دیده نشده رو نگاه میکنه\n",
        "            \n",
        "            if iscore: # اگر داده فعلی یک نقطه اصلی باشد\n",
        "                first_point = False\n",
        "                \n",
        "                clusters.append((curr_idx,C)) # اختصاص دهی نقطه به خوشه\n",
        "                current_stack.update(neigh_indexes) # اضافه کردن همسایه به استک\n",
        "\n",
        "            elif isborder: # آیا داده فعلی ، یک نقطه حاشیه ای است یا نه\n",
        "                clusters.append((curr_idx,C))\n",
        "                \n",
        "                continue\n",
        "\n",
        "            elif isnoise: # آیا داده فعلی یک نقطه نویزی است یا نه\n",
        "                clusters.append((curr_idx, 0))\n",
        "                \n",
        "                continue\n",
        "                \n",
        "        if not first_point:\n",
        "            #افزایش تعداد خوشه ها\n",
        "            C+=1\n",
        "        \n",
        "    return clusters\n",
        "            "
      ]
    },
    {
      "cell_type": "markdown",
      "id": "WBMksmW0082l",
      "metadata": {
        "id": "WBMksmW0082l"
      },
      "source": [
        "## اجرای الگوریتم و چک کردن نتایج"
      ]
    },
    {
      "cell_type": "code",
      "execution_count": 6,
      "id": "dFbeFgW0yj_3",
      "metadata": {
        "id": "dFbeFgW0yj_3"
      },
      "outputs": [],
      "source": [
        "# مقدار شعاع دایره را تعریف میکنیم\n",
        "eps = 0.6\n",
        "# تعداد حداقل نقاط همسایه را برابر 3 در نظر میگیریم\n",
        "minPts = 3"
      ]
    },
    {
      "cell_type": "code",
      "execution_count": 7,
      "id": "ktl3brA8yj_4",
      "metadata": {
        "id": "ktl3brA8yj_4"
      },
      "outputs": [],
      "source": [
        "data = pd.DataFrame(X, columns = [\"X\", \"Y\"] )\n",
        "clustered = cluster_with_stack(eps, minPts, data)"
      ]
    },
    {
      "cell_type": "code",
      "execution_count": 8,
      "id": "UYAgnIzd_0Sk",
      "metadata": {
        "colab": {
          "base_uri": "https://localhost:8080/"
        },
        "id": "UYAgnIzd_0Sk",
        "outputId": "4b065b51-4573-4c43-f64c-cca45861397d"
      },
      "outputs": [
        {
          "data": {
            "text/plain": [
              "(136, 1)"
            ]
          },
          "execution_count": 8,
          "metadata": {},
          "output_type": "execute_result"
        }
      ],
      "source": [
        "clustered[0]"
      ]
    },
    {
      "cell_type": "code",
      "execution_count": 9,
      "id": "0uezhiZKyj_5",
      "metadata": {
        "id": "0uezhiZKyj_5"
      },
      "outputs": [],
      "source": [
        "idx , cluster = list(zip(*clustered))"
      ]
    },
    {
      "cell_type": "code",
      "execution_count": 10,
      "id": "SQOCreZxyj_6",
      "metadata": {
        "id": "SQOCreZxyj_6",
        "scrolled": true
      },
      "outputs": [],
      "source": [
        "cluster_df = pd.DataFrame(clustered, columns = [\"idx\", \"cluster\"])"
      ]
    },
    {
      "cell_type": "code",
      "execution_count": 11,
      "id": "b0M7m3c1yj_7",
      "metadata": {
        "colab": {
          "base_uri": "https://localhost:8080/",
          "height": 476
        },
        "id": "b0M7m3c1yj_7",
        "outputId": "eeee73bd-6392-4170-89b5-d30c69445394",
        "scrolled": false
      },
      "outputs": [
        {
          "data": {
            "text/plain": [
              "Text(0, 0.5, 'Y')"
            ]
          },
          "execution_count": 11,
          "metadata": {},
          "output_type": "execute_result"
        },
        {
          "data": {
            "image/png": "[encoded data removed]",
            "text/plain": [
              "<Figure size 720x504 with 1 Axes>"
            ]
          },
          "metadata": {
            "needs_background": "light"
          },
          "output_type": "display_data"
        }
      ],
      "source": [
        "plt.figure(figsize=(10,7))\n",
        "for clust in np.unique(cluster):\n",
        "    # X[cluster_df[\"idx\"][cluster_df[\"cluster\"] == clust].values, 2] = clust\n",
        "    \n",
        "    plt.scatter(X[cluster_df[\"idx\"][cluster_df[\"cluster\"] == clust].values, 0], X[cluster_df[\"idx\"][cluster_df[\"cluster\"] == clust].values, 1], s=10, label=f\"Cluster{clust}\")\n",
        "\n",
        "plt.legend([f\"Cluster {clust}\" for clust in np.unique(cluster)], loc =\"lower right\")\n",
        "plt.title('Clustered Data')\n",
        "plt.xlabel('X')\n",
        "plt.ylabel('Y')\n"
      ]
    },
    {
      "cell_type": "code",
      "execution_count": null,
      "id": "gmVK6taG1Li4",
      "metadata": {
        "colab": {
          "base_uri": "https://localhost:8080/",
          "height": 54
        },
        "id": "gmVK6taG1Li4",
        "outputId": "05959dbd-d2dd-460f-9d7c-7dcea56cf82e"
      },
      "outputs": [
        {
          "data": {
            "application/vnd.google.colaboratory.intrinsic+json": {
              "type": "string"
            },
            "text/plain": [
              "'\\nهمونطور که در خروجی های بالا دیده میشه به نظر میرسه که کلاسترهای منطقی ای رو تونستیم تولید کنیم\\nو تعداد 3 کلاستر رو این الگوریتم تونسته برای ما ایجاد کنه که برابر با تعداد خوشه های دیتاست اصلی هستش\\nاگر احساس میکنید که بعضی از نقاط به اشتباه در کلاستر دیگه ای قرار داده شدن .... با بازی کردن با متغیر های \\nepsilon\\nو\\nmin-points \\nمیتونیم به نتایج بهتری دست یپدا کنیم \\n\\n'"
            ]
          },
          "execution_count": 111,
          "metadata": {},
          "output_type": "execute_result"
        }
      ],
      "source": [
        "'''\n",
        "همونطور که در خروجی های بالا دیده میشه به نظر میرسه که کلاسترهای منطقی ای رو تونستیم تولید کنیم\n",
        "و تعداد 2 کلاستر به همراه تعدادی نویز رو این الگوریتم تونسته برای ما ایجاد کنه\n",
        "اگرچه احساس میشه که بعضی از نقاط به اشتباه در کلاستر دیگه ای قرار داده شدن .... با بازی کردن با متغیر های \n",
        "epsilon\n",
        "و\n",
        "min-points \n",
        "میتونیم به نتایج بهتری دست یپدا کنیم \n",
        "\n",
        "'''"
      ]
    }
  ],
  "metadata": {
    "colab": {
      "name": "my_DBSCAN_implementation.ipynb",
      "provenance": []
    },
    "kernelspec": {
      "display_name": "Python 3",
      "language": "python",
      "name": "python3"
    },
    "language_info": {
      "codemirror_mode": {
        "name": "ipython",
        "version": 3
      },
      "file_extension": ".py",
      "mimetype": "text/x-python",
      "name": "python",
      "nbconvert_exporter": "python",
      "pygments_lexer": "ipython3",
      "version": "3.7.6"
    }
  },
  "nbformat": 4,
  "nbformat_minor": 5
}
